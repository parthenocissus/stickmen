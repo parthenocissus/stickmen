{
  "cells": [
    {
      "cell_type": "code",
      "execution_count": null,
      "metadata": {
        "colab": {
          "base_uri": "https://localhost:8080/"
        },
        "id": "xl9zTrEZbbJ8",
        "outputId": "11f3d20e-8616-4b33-81f3-0651e96eedcb"
      },
      "outputs": [],
      "source": [
        "\"\"\"\n",
        "Centaur Drawings || 2023.\n",
        "\n",
        "#Authors:\n",
        "    Uroš Krčadinac | krcadinac.com \n",
        "    Andrej Alfirevic | xladn0.rf.gd \n",
        "    Zeljko Petrovic | instagram@just.blue.dot\n",
        "\n",
        "This program is free software: you can redistribute it and/or modify\n",
        "it under the terms of the GNU General Public License as published by\n",
        "the Free Software Foundation, either version 3 of the License, or\n",
        "(at your option) any later version.\n",
        "\n",
        "This program is distributed in the hope that it will be useful,\n",
        "but WITHOUT ANY WARRANTY; without even the implied warranty of\n",
        "MERCHANTABILITY or FITNESS FOR A PARTICULAR PURPOSE.  See the\n",
        "GNU General Public License for more details.\n",
        "\n",
        "You should have received a copy of the GNU General Public License\n",
        "along with this program.  If not, see https://www.gnu.org/licenses.\n",
        "\"\"\"\n",
        "\n",
        "\n",
        "# Colab installations\n",
        "# !pip install git+git://github.com/cpmpercussion/keras-mdn-layer.git#egg=keras-mdn-layer\n",
        "import sys\n",
        "!{sys.executable} -m pip install keras-mdn-layer\n",
        "\n",
        "!git clone https://github.com/parthenocissus/stickmen.git\n",
        "\n",
        "!pip install svgpathtools\n",
        "!pip install svgwrite\n",
        "import keras\n",
        "import tensorflow as tf\n",
        "import mdn\n",
        "import glob\n",
        "import json\n",
        "import numpy as np\n",
        "import random\n",
        "import matplotlib.pyplot as plt\n",
        "from mpl_toolkits.mplot3d import Axes3D\n",
        "%matplotlib inline"
      ]
    },
    {
      "cell_type": "code",
      "execution_count": null,
      "metadata": {
        "colab": {
          "base_uri": "https://localhost:8080/"
        },
        "id": "XmAmDKfU3-B3",
        "outputId": "c599ac47-40d7-4de6-b0d3-a77a2a99b7cd"
      },
      "outputs": [],
      "source": [
        "media_path = 'stickmen/static/media/Databases/megabase/'\n",
        "\n",
        "def parse_json_pictograms_x4(media_path=media_path):\n",
        "    svg_data = []\n",
        "    float_formatter = \"{:.2f}\".format\n",
        "    np.set_printoptions(formatter={'float_kind': float_formatter})\n",
        "    # Going trough all JSON files in the media_path directory\n",
        "    print(\"files:\")\n",
        "    for f in glob.iglob(media_path + \"/*\"):\n",
        "        print(f\"_______\\n{f}\")\n",
        "        data = json.load(open(f, 'r', encoding='utf-8'))\n",
        "        pointList = data['points']\n",
        "        # shape_size = get_shape_size(pointList)\n",
        "        shape_size = len(pointList) + 1\n",
        "        points = np.zeros(shape=(shape_size, 3), dtype=float)\n",
        "        points_xflip = np.zeros(shape=(shape_size, 3), dtype=float)\n",
        "        points_yflip = np.zeros(shape=(shape_size, 3), dtype=float)\n",
        "        points_xyflip = np.zeros(shape=(shape_size, 3), dtype=float)\n",
        "        itr = 0\n",
        "        current = {\"x\": 0, \"y\": 0}\n",
        "        current_flip = {\"x\": 0, \"y\": 0}\n",
        "        for(i, p) in enumerate(pointList):\n",
        "          x = p[0]\n",
        "          y = p[1]\n",
        "          pen_state = p[2]\n",
        "          dx = x - current[\"x\"]\n",
        "          dy = y - current[\"y\"]\n",
        "          points[itr] = [dx, dy, pen_state]\n",
        "          current = {\"x\": x, \"y\": y}\n",
        "          x_flip = 17 - x\n",
        "          y_flip = 35 - y\n",
        "          dx_flip = x_flip - current_flip[\"x\"]\n",
        "          dy_flip = y_flip - current_flip[\"y\"]\n",
        "          points_xflip[itr] = [dx_flip, dy, pen_state]\n",
        "          points_yflip[itr] = [dx, dy_flip, pen_state]\n",
        "          points_xyflip[itr] = [dx_flip, dy_flip, pen_state]\n",
        "          current_flip = {\"x\": x_flip, \"y\": y_flip}\n",
        "          itr += 1\n",
        "          last_points = None\n",
        "          for i in data:\n",
        "              if last_points is None:\n",
        "                  svg_data.append(points)\n",
        "                  last_points = points\n",
        "              else:\n",
        "                  dx = points[0] - last_points[0]\n",
        "                  dy = points[1] - last_points[1]\n",
        "                  svg_data.append([dx, dy, points[2]])\n",
        "                  last_point = points\n",
        "#append\n",
        "\n",
        "        svg_data.append(points)\n",
        "        svg_data.append(points_xflip)\n",
        "        svg_data.append(points_yflip)\n",
        "        svg_data.append(points_xyflip)\n",
        "\n",
        "    return np.array(svg_data, dtype=object)\n",
        "\n",
        "tdata = parse_json_pictograms_x4()"
      ]
    },
    {
      "cell_type": "code",
      "execution_count": null,
      "metadata": {
        "colab": {
          "base_uri": "https://localhost:8080/"
        },
        "id": "P66dmKNqTTxu",
        "outputId": "f98c89b1-1ef6-4c93-d67d-4f0444d3234f"
      },
      "outputs": [],
      "source": [
        "train_set = tdata\n",
        "valid_set = tdata\n",
        "test_set = tdata\n",
        "print(tdata)"
      ]
    },
    {
      "cell_type": "code",
      "execution_count": null,
      "metadata": {
        "colab": {
          "base_uri": "https://localhost:8080/",
          "height": 540
        },
        "id": "eUzVaspZbbKK",
        "outputId": "8d25ffe7-3e57-46cc-adeb-73ac18eeff58"
      },
      "outputs": [
        {
          "name": "stdout",
          "output_type": "stream",
          "text": [
            "Shape: (41, 3)\n",
            "[[3.56 9.24 0.00]\n",
            " [1.28 1.68 0.00]\n",
            " [0.56 -0.40 0.00]\n",
            " [-0.08 -1.04 0.00]\n",
            " [-0.48 -0.40 0.00]]\n"
          ]
        },
        {
          "data": {
            "image/png": "[encoded data removed]",
            "text/plain": [
              "<Figure size 640x480 with 1 Axes>"
            ]
          },
          "metadata": {},
          "output_type": "display_data"
        }
      ],
      "source": [
        "example = train_set[31000]\n",
        "print(\"Shape:\", example.shape)\n",
        "print(example[:5])\n",
        "plt.plot(example.T[0].cumsum(), -1 * example.T[1].cumsum())\n",
        "plt.show()"
      ]
    },
    {
      "cell_type": "code",
      "execution_count": null,
      "metadata": {
        "colab": {
          "base_uri": "https://localhost:8080/"
        },
        "id": "SXrrHMHsbbKk",
        "outputId": "3d911aa6-7fd0-481e-f120-e4bee7579215"
      },
      "outputs": [],
      "source": [
        "# tier\n",
        "SEQ_LEN = 60 # 124 100 30 30\n",
        "BATCH_SIZE = 65 # 64 51 20 49\n",
        "HIDDEN_UNITS = 512\n",
        "\n",
        "EPOCHS = 100\n",
        "SEED = 2345\n",
        "random.seed(SEED)\n",
        "np.random.seed(SEED)\n",
        "OUTPUT_DIMENSION = 3\n",
        "NUMBER_MIXTURES = 10\n",
        "\n",
        "# layers\n",
        "model = keras.Sequential()\n",
        "model.add(keras.layers.LSTM(HIDDEN_UNITS, batch_input_shape=(None, SEQ_LEN, OUTPUT_DIMENSION), return_sequences=True))\n",
        "model.add(keras.layers.LSTM(HIDDEN_UNITS))\n",
        "model.add(mdn.MDN(OUTPUT_DIMENSION, NUMBER_MIXTURES))\n",
        "model.compile(loss=mdn.get_mixture_loss_func(OUTPUT_DIMENSION,NUMBER_MIXTURES), optimizer=tf.keras.optimizers.Adam())\n",
        "model.summary()"
      ]
    },
    {
      "cell_type": "code",
      "execution_count": null,
      "metadata": {
        "colab": {
          "base_uri": "https://localhost:8080/"
        },
        "id": "Eisrk3oHbbKm",
        "outputId": "37259dc0-3566-4a8d-d143-c73bd29cb8db"
      },
      "outputs": [
        {
          "name": "stdout",
          "output_type": "stream",
          "text": [
            "Number of training examples:\n",
            "X: (9576, 40, 3)\n",
            "y: (9576, 3)\n"
          ]
        }
      ],
      "source": [
        "# Functions for slicing up data\n",
        "def slice_sequence_examples(sequence, num_steps):\n",
        "    xs = []\n",
        "    for i in range(len(sequence) - num_steps - 1):\n",
        "        example = sequence[i: i + num_steps]\n",
        "        xs.append(example)\n",
        "    return xs\n",
        "\n",
        "def seq_to_singleton_format(examples):\n",
        "    xs = []\n",
        "    ys = []\n",
        "    for ex in examples:\n",
        "        xs.append(ex[:-1])\n",
        "        ys.append(ex[-1])\n",
        "    return (xs,ys)\n",
        "\n",
        "# Prepare training data as X and Y.\n",
        "slices = []\n",
        "for seq in tdata:\n",
        "    slices += slice_sequence_examples(seq, SEQ_LEN + 1)\n",
        "X, y = seq_to_singleton_format(slices)\n",
        "\n",
        "X = np.array(X)\n",
        "y = np.array(y)\n",
        "\n",
        "print(\"Number of training examples:\")\n",
        "print(\"X:\", X.shape)\n",
        "print(\"y:\", y.shape)"
      ]
    },
    {
      "cell_type": "code",
      "execution_count": null,
      "metadata": {
        "colab": {
          "base_uri": "https://localhost:8080/"
        },
        "id": "nTX2wRzubbKp",
        "outputId": "8e06bfb8-c90b-4b3d-8470-eada61dc58dd"
      },
      "outputs": [],
      "source": [
        "# Train!\n",
        "EPOCHS = 100\n",
        "history = model.fit(X, y, batch_size=BATCH_SIZE, epochs=EPOCHS, callbacks=[keras.callbacks.TerminateOnNaN()])"
      ]
    },
    {
      "cell_type": "code",
      "execution_count": null,
      "metadata": {
        "id": "BsekgNd2e41X"
      },
      "outputs": [],
      "source": [
        "model.save('31k_Model_100epoch60seq65batch512hidden.h5')"
      ]
    },
    {
      "cell_type": "code",
      "execution_count": null,
      "metadata": {
        "colab": {
          "base_uri": "https://localhost:8080/",
          "height": 430
        },
        "id": "BHZ1dn9YbbKr",
        "outputId": "9e05d63d-f272-41bd-c3c6-ddb098235ec1"
      },
      "outputs": [
        {
          "data": {
            "image/png": "[encoded data removed]",
            "text/plain": [
              "<Figure size 640x480 with 1 Axes>"
            ]
          },
          "metadata": {},
          "output_type": "display_data"
        }
      ],
      "source": [
        "plt.figure()\n",
        "plt.plot(history.history['loss'])\n",
        "plt.show()"
      ]
    },
    {
      "cell_type": "code",
      "execution_count": null,
      "metadata": {
        "colab": {
          "base_uri": "https://localhost:8080/"
        },
        "id": "8VMAUCp9bbKt",
        "outputId": "e6ab02c1-cf7f-401d-88e6-df6d4fb64c9b"
      },
      "outputs": [],
      "source": [
        "decoder = keras.Sequential()\n",
        "decoder.add(keras.layers.LSTM(HIDDEN_UNITS, batch_input_shape=(1,1,OUTPUT_DIMENSION), return_sequences=True, stateful=True))\n",
        "decoder.add(keras.layers.LSTM(HIDDEN_UNITS, stateful=True))\n",
        "decoder.add(mdn.MDN(OUTPUT_DIMENSION, NUMBER_MIXTURES))\n",
        "decoder.compile(loss=mdn.get_mixture_loss_func(OUTPUT_DIMENSION,NUMBER_MIXTURES), optimizer=tf.keras.optimizers.Adam())\n",
        "decoder.summary()\n",
        "decoder.set_weights(model.get_weights()) #set newgen model"
      ]
    },
    {
      "cell_type": "code",
      "execution_count": null,
      "metadata": {
        "id": "fO0qn7S8bbKu"
      },
      "outputs": [],
      "source": [
        "# Generating new drawings...\n",
        "import pandas as pd\n",
        "import matplotlib.pyplot as plt\n",
        "%matplotlib inline\n",
        "\n",
        "def zero_start_position():\n",
        "    # A zeroed out start position with pen down\n",
        "    out = np.zeros((1, 1, 3), dtype=np.float32)\n",
        "    out[0, 0, 2] = 1 # set pen down. originaly 1\n",
        "    return out\n",
        "\n",
        "def generate_sketch(model, start_pos, num_points=100):\n",
        "     return None\n",
        "\n",
        "def cutoff_stroke(x):\n",
        "    return np.greater(x,0.5) * 1.0 #0.5\n",
        "\n",
        "def plot_sketch(sketch_array):\n",
        "\n",
        "    # Plot a sketch quickly to see what it looks like.\n",
        "    sketch_df = pd.DataFrame({'x':sketch_array.T[0],'y':sketch_array.T[1],'z':sketch_array.T[2]})\n",
        "    sketch_df.x = sketch_df.x.cumsum()\n",
        "    sketch_df.y = -1 * sketch_df.y.cumsum()\n",
        "\n",
        "    fig = plt.figure(figsize=(8, 8))\n",
        "    ax1 = fig.add_subplot(111)\n",
        "\n",
        "    ax1.plot(sketch_df.x,sketch_df.y,'r-')\n",
        "    plt.show()"
      ]
    },
    {
      "cell_type": "code",
      "execution_count": null,
      "metadata": {
        "id": "ovRSXHk4bbKz"
      },
      "outputs": [],
      "source": [
        "# Generating SVGs\n",
        "# Via Hardmaru's Drawing Functions from write-rnn-tensorflow\n",
        "# https://github.com/hardmaru/write-rnn-tensorflow/blob/master/utils.py\n",
        "\n",
        "import svgwrite\n",
        "from IPython.display import SVG, display\n",
        "\n",
        "def get_bounds(data, factor):\n",
        "    min_x = 0\n",
        "    max_x = 0\n",
        "    min_y = 0\n",
        "    max_y = 0\n",
        "\n",
        "    abs_x = 0\n",
        "    abs_y = 0\n",
        "    for i in range(len(data)):\n",
        "        x = float(data[i, 0]) / factor\n",
        "        y = float(data[i, 1]) / factor\n",
        "        abs_x += x\n",
        "        abs_y += y\n",
        "        min_x = min(min_x, abs_x)\n",
        "        min_y = min(min_y, abs_y)\n",
        "        max_x = max(max_x, abs_x)\n",
        "        max_y = max(max_y, abs_y)\n",
        "\n",
        "    return (min_x, max_x, min_y, max_y)\n",
        "\n",
        "def draw_strokes(data, factor=1, svg_filename='sample.svg'):\n",
        "    min_x, max_x, min_y, max_y = get_bounds(data, factor)\n",
        "    dims = (50 + max_x - min_x, 50 + max_y - min_y)\n",
        "\n",
        "    dwg = svgwrite.Drawing(svg_filename, size=dims)\n",
        "    dwg.add(dwg.rect(insert=(0, 0), size=dims, fill='white'))\n",
        "\n",
        "    lift_pen = 1\n",
        "\n",
        "    abs_x = 25 - min_x\n",
        "    abs_y = 25 - min_y\n",
        "    p = \"M%s,%s \" % (abs_x, abs_y)\n",
        "\n",
        "    command = \"m\"\n",
        "\n",
        "    for i in range(len(data)):\n",
        "        if (lift_pen == 1):\n",
        "            command = \"m\"\n",
        "        elif (command != \"l\"):\n",
        "            command = \"l\"\n",
        "        else:\n",
        "            command = \"\"\n",
        "        x = float(data[i, 0]) / factor\n",
        "        y = float(data[i, 1]) / factor\n",
        "        lift_pen = data[i, 2]\n",
        "        p += command + str(x) + \",\" + str(y) + \" \"\n",
        "\n",
        "    the_color = \"black\"\n",
        "    stroke_width = 1\n",
        "\n",
        "    dwg.add(dwg.path(p).stroke(the_color, stroke_width).fill(\"none\"))\n",
        "\n",
        "    dwg.save()\n",
        "    dwg.saveas(svg_filename)\n",
        "    display(SVG(dwg.tostring()))\n",
        "\n",
        "\n",
        "c = 0"
      ]
    },
    {
      "cell_type": "code",
      "execution_count": null,
      "metadata": {
        "colab": {
          "base_uri": "https://localhost:8080/",
          "height": 957
        },
        "id": "Z9qH5wHVbbK1",
        "outputId": "3d92b33b-8c6a-49f1-8495-bb9fce666032",
        "scrolled": true
      },
      "outputs": [],
      "source": [
        "temperature = 0.001\n",
        "# temperature = 1\n",
        "# temperature = 2\n",
        "# temperature = 10 # bigger the temp, bigger the randomness\n",
        "# sigma_temp = 0.01\n",
        "sigma_temp = -1\n",
        "\n",
        "p = zero_start_position()\n",
        "sketch = [p.reshape(3,)]\n",
        "#55\n",
        "for i in range(32):\n",
        "    params = decoder.predict(p.reshape(1,1,3))\n",
        "    p = mdn.sample_from_output(params[0], OUTPUT_DIMENSION, NUMBER_MIXTURES, temp=temperature, sigma_temp=sigma_temp)\n",
        "    sketch.append(p.reshape((3,)))\n",
        "\n",
        "sketch = np.array(sketch)\n",
        "decoder.reset_states()\n",
        "filename= 'output_plot0' + str(c) + '.svg'\n",
        "sketch.T[2] = cutoff_stroke(sketch.T[2])\n",
        "draw_strokes(sketch, factor=0.7)\n",
        "draw_strokes(sketch, factor=0.2, svg_filename=filename)\n",
        "print(filename)\n",
        "c = c+1\n",
        "#plot_sketch(sketch)"
      ]
    }
  ],
  "metadata": {
    "accelerator": "GPU",
    "colab": {
      "machine_shape": "hm",
      "provenance": []
    },
    "kernelspec": {
      "display_name": "Python 3",
      "language": "python",
      "name": "python3"
    },
    "language_info": {
      "codemirror_mode": {
        "name": "ipython",
        "version": 3
      },
      "file_extension": ".py",
      "mimetype": "text/x-python",
      "name": "python",
      "nbconvert_exporter": "python",
      "pygments_lexer": "ipython3",
      "version": "3.10.11 (tags/v3.10.11:7d4cc5a, Apr  5 2023, 00:38:17) [MSC v.1929 64 bit (AMD64)]"
    },
    "vscode": {
      "interpreter": {
        "hash": "2d465f4ab698109996871d05ffc9f50cc9c5c0e714f95d25d990af8b933248e6"
      }
    }
  },
  "nbformat": 4,
  "nbformat_minor": 0
}
